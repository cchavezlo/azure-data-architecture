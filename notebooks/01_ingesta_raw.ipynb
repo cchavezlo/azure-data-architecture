{
 "cells": [
  {
   "cell_type": "markdown",
   "id": "72b3c727",
   "metadata": {},
   "source": [
    "# 📥 Ingesta de Datos - Capa Raw"
   ]
  },
  {
   "cell_type": "markdown",
   "id": "db750f2e",
   "metadata": {},
   "source": [
    "## 1. Configuración de Spark Session"
   ]
  },
  {
   "cell_type": "code",
   "execution_count": null,
   "id": "eba6927f",
   "metadata": {},
   "outputs": [],
   "source": [
    "from pyspark.sql import SparkSession\n",
    "\n",
    "spark = SparkSession.builder     .appName(\"IngestaRaw\")     .getOrCreate()\n"
   ]
  },
  {
   "cell_type": "markdown",
   "id": "9fcd89b5",
   "metadata": {},
   "source": [
    "## 2. Lectura de archivos desde Azure Blob (simulado localmente)"
   ]
  },
  {
   "cell_type": "markdown",
   "id": "463e2009",
   "metadata": {},
   "source": [
    "# Reemplaza las rutas por las rutas reales en tu Blob Storage o Data Lake\n",
    "\n",
    "df_csv = spark.read.option(\"header\", True).csv(\"data/sample_csv/clientes.csv\")\n",
    "df_json = spark.read.json(\"data/sample_json/ventas.json\")\n",
    "df_parquet = spark.read.parquet(\"data/sample_parquet/pagos.parquet\")\n",
    "\n",
    "df_csv.show(5)"
   ]
  }
 ],
 "metadata": {},
 "nbformat": 4,
 "nbformat_minor": 5
}