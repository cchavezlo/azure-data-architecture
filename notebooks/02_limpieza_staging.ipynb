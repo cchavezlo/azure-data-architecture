{
 "cells": [
  {
   "cell_type": "markdown",
   "id": "74b70547",
   "metadata": {},
   "source": [
    "# 🧹 Limpieza y Validación Inicial - Capa Staging"
   ]
  },
  {
   "cell_type": "markdown",
   "id": "8a5b6f26",
   "metadata": {},
   "source": [
    "## 1. Eliminación de registros inválidos"
   ]
  },
  {
   "cell_type": "code",
   "execution_count": null,
   "id": "ad551283",
   "metadata": {},
   "outputs": [],
   "source": [
    "from pyspark.sql.functions import col\n",
    "\n",
    "df_clean = df_csv.filter(\n",
    "    (col(\"nombre\").isNotNull()) &\n",
    "    (col(\"edad\").cast(\"int\").isNotNull()) &\n",
    "    (col(\"edad\") >= 0) &\n",
    "    (col(\"edad\") <= 100)\n",
    ")\n",
    "\n",
    "df_clean = df_clean.dropDuplicates([\"id\"])\n",
    "df_clean.show(5)"
   ]
  }
 ],
 "metadata": {},
 "nbformat": 4,
 "nbformat_minor": 5
}