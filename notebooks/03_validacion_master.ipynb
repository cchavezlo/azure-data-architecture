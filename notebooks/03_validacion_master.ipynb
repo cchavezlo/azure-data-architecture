{
 "cells": [
  {
   "cell_type": "markdown",
   "id": "e97cdf01",
   "metadata": {},
   "source": [
    "# ✅ Consolidación y Validación Final - Capa Master"
   ]
  },
  {
   "cell_type": "markdown",
   "id": "2030cbfd",
   "metadata": {},
   "source": [
    "## 1. Regla de calidad final y escritura en Delta"
   ]
  },
  {
   "cell_type": "markdown",
   "id": "02db7cca",
   "metadata": {},
   "source": [
    "# Validar correos válidos (simulado con una expresión básica)\n",
    "from pyspark.sql.functions import col\n",
    "\n",
    "df_final = df_clean.filter(col(\"email\").rlike(\"@\"))\n",
    "\n",
    "# Guardar en Delta (en Azure Databricks usar abfss:// en ruta)\n",
    "df_final.write.format(\"delta\").mode(\"overwrite\").save(\"data/output/master/clientes_final\")\n"
   ]
  },
  {
   "cell_type": "markdown",
   "id": "95bf4a73",
   "metadata": {},
   "source": [
    "## 2. Crear vista temporal y consultar"
   ]
  },
  {
   "cell_type": "code",
   "execution_count": null,
   "id": "72ab1494",
   "metadata": {},
   "outputs": [],
   "source": [
    "df_final.createOrReplaceTempView(\"clientes\")\n",
    "\n",
    "spark.sql(\"\"\"\n",
    "SELECT ciudad, COUNT(*) as total_clientes\n",
    "FROM clientes\n",
    "GROUP BY ciudad\n",
    "\"\"\").show()\n"
   ]
  }
 ],
 "metadata": {},
 "nbformat": 4,
 "nbformat_minor": 5
}